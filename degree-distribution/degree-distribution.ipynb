{
 "cells": [
  {
   "cell_type": "code",
   "execution_count": 2,
   "metadata": {},
   "outputs": [],
   "source": [
    "import numpy as np\n",
    "import networkx as nx\n",
    "import pandas as pd\n",
    "import matplotlib.pyplot as plt\n",
    "import matplotlib as mpl"
   ]
  },
  {
   "cell_type": "code",
   "execution_count": null,
   "metadata": {},
   "outputs": [],
   "source": [
    "# Read the file, skipping the first row (header)\n",
    "#df = pd.read_csv('./pop-edge.txt', sep='\\t', skiprows=1, header=None, names=[\"Node1\", \"Node2\", \"Correlation\"])\n",
    "df = pd.read_csv('./rock_edge_list.csv')\n",
    "\n",
    "# Create an undirected graph\n",
    "G = nx.Graph()\n",
    "\n",
    "# Add edges without weights (if you need weights, modify accordingly)\n",
    "G.add_edges_from(df[['Node1', 'Node2']].values)\n",
    "\n",
    "# Network properties\n",
    "N = len(G)\n",
    "L = G.size()\n",
    "degrees = [G.degree(node) for node in G]\n",
    "\n",
    "kmin = min(degrees) if degrees else 0\n",
    "kmax = max(degrees) if degrees else 0\n",
    "\n",
    "print(\"Number of nodes: \", N)\n",
    "print(\"Number of edges: \", L)\n",
    "print()\n",
    "print(\"Average degree: \", 2*L/N if N > 0 else 0)\n",
    "print(\"Average degree (alternate calculation)\", np.mean(degrees) if degrees else 0)\n",
    "print()\n",
    "print(\"Minimum degree: \", kmin)\n",
    "print(\"Maximum degree: \", kmax)"
   ]
  },
  {
   "cell_type": "code",
   "execution_count": null,
   "metadata": {},
   "outputs": [],
   "source": [
    "# Get 20 logarithmically spaced bins between kmin and kmax\n",
    "bin_edges = np.logspace(np.log10(kmin), np.log10(kmax), num=20)\n",
    "\n",
    "# histogram the data into these bins\n",
    "density, _ = np.histogram(degrees, bins=bin_edges, density=True)"
   ]
  },
  {
   "cell_type": "code",
   "execution_count": null,
   "metadata": {},
   "outputs": [],
   "source": [
    "fig = plt.figure(figsize=(6,4))\n",
    "\n",
    "# \"x\" should be midpoint (IN LOG SPACE) of each bin\n",
    "log_be = np.log10(bin_edges)\n",
    "x = 10**((log_be[1:] + log_be[:-1])/2)\n",
    "\n",
    "plt.loglog(x, density, marker='o', linestyle='none')\n",
    "plt.xlabel(r\"degree $k$\", fontsize=16)\n",
    "plt.ylabel(r\"$P(k)$\", fontsize=16)\n",
    "\n",
    "# remove right and top boundaries because they're ugly\n",
    "ax = plt.gca()\n",
    "ax.spines['right'].set_visible(False)\n",
    "ax.spines['top'].set_visible(False)\n",
    "ax.yaxis.set_ticks_position('left')\n",
    "ax.xaxis.set_ticks_position('bottom')\n",
    "\n",
    "# Show the plot\n",
    "plt.show()"
   ]
  },
  {
   "cell_type": "code",
   "execution_count": null,
   "metadata": {},
   "outputs": [],
   "source": [
    "# Get 15 linearly spaced bins between kmin and kmax\n",
    "bin_edges = np.linspace(kmin, kmax, num=15)\n",
    "\n",
    "# histogram the data into these bins\n",
    "density, _ = np.histogram(degrees, bins=bin_edges, density=True)"
   ]
  },
  {
   "cell_type": "code",
   "execution_count": null,
   "metadata": {},
   "outputs": [],
   "source": [
    "fig = plt.figure(figsize=(6,4))\n",
    "\n",
    "# \"x\" should be midpoint (IN LOG SPACE) of each bin\n",
    "log_be = np.log10(bin_edges)\n",
    "x = 10**((log_be[1:] + log_be[:-1])/2)\n",
    "\n",
    "plt.plot(x, density, marker='o', linestyle='none')\n",
    "plt.xlabel(r\"degree $k$\", fontsize=16)\n",
    "plt.ylabel(r\"$P(k)$\", fontsize=16)\n",
    "\n",
    "# remove right and top boundaries because they're ugly\n",
    "ax = plt.gca()\n",
    "ax.spines['right'].set_visible(False)\n",
    "ax.spines['top'].set_visible(False)\n",
    "ax.yaxis.set_ticks_position('left')\n",
    "ax.xaxis.set_ticks_position('bottom')\n",
    "\n",
    "# Show the plot\n",
    "plt.show()"
   ]
  }
 ],
 "metadata": {
  "kernelspec": {
   "display_name": "myenv",
   "language": "python",
   "name": "python3"
  },
  "language_info": {
   "codemirror_mode": {
    "name": "ipython",
    "version": 3
   },
   "file_extension": ".py",
   "mimetype": "text/x-python",
   "name": "python",
   "nbconvert_exporter": "python",
   "pygments_lexer": "ipython3",
   "version": "3.13.2"
  }
 },
 "nbformat": 4,
 "nbformat_minor": 2
}
