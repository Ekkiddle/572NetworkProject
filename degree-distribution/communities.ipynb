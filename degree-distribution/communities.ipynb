{
 "cells": [
  {
   "cell_type": "code",
   "execution_count": 1,
   "metadata": {},
   "outputs": [],
   "source": [
    "import pandas as pd\n",
    "import networkx as nx\n",
    "import networkx.algorithms.community as community"
   ]
  },
  {
   "cell_type": "code",
   "execution_count": 2,
   "metadata": {},
   "outputs": [
    {
     "name": "stdout",
     "output_type": "stream",
     "text": [
      "CSV file 'music_genre_communities.csv' saved successfully!\n"
     ]
    }
   ],
   "source": [
    "# Define a dictionary to store results\n",
    "community_counts = {}\n",
    "\n",
    "# List of music genres and their corresponding edge list files\n",
    "music_genres = [\"blues\", \"classical\", \"country\", \"disco\", \"hiphop\", \"jazz\", \"metal\", \"pop\", \"reggae\", \"rock\"]\n",
    "for genre in music_genres:\n",
    "    # Load edge list CSV\n",
    "    df = pd.read_csv(f'./{genre}_edge_list.csv')\n",
    "\n",
    "    # Create an undirected graph\n",
    "    G = nx.Graph()\n",
    "\n",
    "    # Add edges to the graph\n",
    "    G.add_edges_from(df[['Node1', 'Node2']].values)\n",
    "\n",
    "    # Detect communities using Louvain method\n",
    "    communities = community.louvain_communities(G)\n",
    "\n",
    "    # Store the number of communities\n",
    "    community_counts[genre] = len(communities)\n",
    "\n",
    "# Convert dictionary to DataFrame\n",
    "df_communities = pd.DataFrame(list(community_counts.items()), columns=[\"Music Genre\", \"Number of Communities\"])\n",
    "\n",
    "# Save to CSV file\n",
    "df_communities.to_csv(\"music_genre_communities.csv\", index=False)\n",
    "\n",
    "print(\"CSV file 'music_genre_communities.csv' saved successfully!\")\n"
   ]
  }
 ],
 "metadata": {
  "kernelspec": {
   "display_name": "myenv",
   "language": "python",
   "name": "python3"
  },
  "language_info": {
   "codemirror_mode": {
    "name": "ipython",
    "version": 3
   },
   "file_extension": ".py",
   "mimetype": "text/x-python",
   "name": "python",
   "nbconvert_exporter": "python",
   "pygments_lexer": "ipython3",
   "version": "3.13.2"
  }
 },
 "nbformat": 4,
 "nbformat_minor": 2
}
