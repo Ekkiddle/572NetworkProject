{
 "cells": [
  {
   "cell_type": "markdown",
   "metadata": {},
   "source": [
    "# Null Model\n",
    "This code generates several null models either generatively or randomly changing aspects of a loaded in dataset."
   ]
  },
  {
   "cell_type": "code",
   "execution_count": null,
   "metadata": {},
   "outputs": [],
   "source": [
    "import pandas as pd\n",
    "import networkx as nx\n",
    "import random\n",
    "from tqdm.notebook import tqdm \n"
   ]
  },
  {
   "cell_type": "code",
   "execution_count": 13,
   "metadata": {},
   "outputs": [],
   "source": [
    "# Load node list\n",
    "node_file = \"networks/'blues'_node_list.csv\"  # Update with your actual file name\n",
    "edge_file = \"networks/'blues'_edge_list.csv\"  # Update with your actual file name\n",
    "\n",
    "# Read the node list\n",
    "nodes_df = pd.read_csv(node_file)\n",
    "node_ids = nodes_df[\"Node\"].tolist()  # Extract node IDs\n",
    "\n",
    "# Read the edge list\n",
    "edges_df = pd.read_csv(edge_file)\n",
    "\n",
    "# Ensure edges are stored as (min, max) for consistency\n",
    "edges = {(min(u, v), max(u, v)) for u, v in zip(edges_df[\"Node1\"], edges_df[\"Node2\"])}"
   ]
  },
  {
   "cell_type": "code",
   "execution_count": 15,
   "metadata": {},
   "outputs": [
    {
     "name": "stderr",
     "output_type": "stream",
     "text": [
      "Swapping edges: 100%|██████████| 60000/60000 [02:58<00:00, 335.99 swaps/s]"
     ]
    },
    {
     "name": "stdout",
     "output_type": "stream",
     "text": [
      "Null model created with 6000 edges (same as original) and saved as 'null_edges.csv'.\n"
     ]
    },
    {
     "name": "stderr",
     "output_type": "stream",
     "text": [
      "\n"
     ]
    }
   ],
   "source": [
    "# Create the original graph\n",
    "G = nx.Graph()\n",
    "G.add_nodes_from(node_ids)\n",
    "G.add_edges_from(edges)\n",
    "\n",
    "# Get the number of edges\n",
    "num_edges = len(G.edges)\n",
    "\n",
    "# Perform edge swaps\n",
    "num_swaps = 10 * num_edges  # More swaps = more randomization while keeping degree fixed\n",
    "G_null = G.copy()\n",
    "\n",
    "# Edge swapping function for undirected graphs\n",
    "for _ in tqdm(range(num_swaps), desc=\"Swapping edges\", unit=\" swaps\"):\n",
    "    # Pick two random edges (A-B and C-D)\n",
    "    (a, b), (c, d) = random.sample(list(G_null.edges), 2)\n",
    "\n",
    "    # Ensure we're not creating self-loops or duplicate edges\n",
    "    if len({a, b, c, d}) == 4:  # Ensures all nodes are unique\n",
    "        new_edge1 = (min(a, d), max(a, d))\n",
    "        new_edge2 = (min(c, b), max(c, b))\n",
    "\n",
    "        if new_edge1 not in G_null.edges and new_edge2 not in G_null.edges:\n",
    "            G_null.remove_edge(a, b)\n",
    "            G_null.remove_edge(c, d)\n",
    "            G_null.add_edge(*new_edge1)\n",
    "            G_null.add_edge(*new_edge2)\n",
    "\n",
    "# Extract new randomized edges\n",
    "null_edges = sorted(G_null.edges())  # Sorting ensures consistent ordering\n",
    "\n",
    "# Save the null model edge list\n",
    "null_edges_df = pd.DataFrame(null_edges, columns=[\"Node1\", \"Node2\"])\n",
    "null_edges_df.to_csv(\"null_edges.csv\", index=False)\n",
    "\n",
    "print(f\"Null model created with {len(null_edges)} edges (same as original) and saved as 'null_edges.csv'.\")"
   ]
  }
 ],
 "metadata": {
  "kernelspec": {
   "display_name": "Python 3",
   "language": "python",
   "name": "python3"
  },
  "language_info": {
   "codemirror_mode": {
    "name": "ipython",
    "version": 3
   },
   "file_extension": ".py",
   "mimetype": "text/x-python",
   "name": "python",
   "nbconvert_exporter": "python",
   "pygments_lexer": "ipython3",
   "version": "3.12.2"
  }
 },
 "nbformat": 4,
 "nbformat_minor": 2
}
