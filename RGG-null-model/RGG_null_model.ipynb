{
 "cells": [
  {
   "cell_type": "code",
   "execution_count": 6,
   "metadata": {},
   "outputs": [],
   "source": [
    "# Importing the required libraries\n",
    "\n",
    "import numpy as np\n",
    "import pandas as pd\n",
    "import networkx as nx\n",
    "import matplotlib.pyplot as plt\n",
    "import matplotlib as mpl\n",
    "%matplotlib inline"
   ]
  },
  {
   "cell_type": "code",
   "execution_count": 19,
   "metadata": {},
   "outputs": [],
   "source": [
    "# change defaults to be less ugly\n",
    "mpl.rc('xtick', labelsize=14, color=\"#222222\") \n",
    "mpl.rc('ytick', labelsize=14, color=\"#222222\") \n",
    "mpl.rc('font', **{'family':'sans-serif','sans-serif':['Arial']})\n",
    "mpl.rc('font', size=16)\n",
    "mpl.rc('xtick.major', size=6, width=1)\n",
    "mpl.rc('xtick.minor', size=3, width=1)\n",
    "mpl.rc('ytick.major', size=6, width=1)\n",
    "mpl.rc('ytick.minor', size=3, width=1)\n",
    "mpl.rc('axes', linewidth=1, edgecolor=\"#222222\", labelcolor=\"#222222\")\n",
    "mpl.rc('text', usetex=False, color=\"#222222\")"
   ]
  },
  {
   "cell_type": "code",
   "execution_count": 24,
   "metadata": {},
   "outputs": [],
   "source": [
    "# Function Defintions\n",
    "\n",
    "# Function to plot a degree distribution graph (P(k) vs k graph)\n",
    "def plot_degree_dist(G):\n",
    "    \n",
    "    degrees = [G.degree(n) for n in G.nodes()]\n",
    "    kmin = min(degrees)\n",
    "    kmax = max(degrees)\n",
    "    \n",
    "    if kmin>0:\n",
    "        bin_edges = np.logspace(np.log10(kmin), np.log10(kmax)+1, num=20)\n",
    "    else:\n",
    "        bin_edges = np.logspace(0, np.log10(kmax)+1, num=20)\n",
    "    density, _ = np.histogram(degrees, bins=bin_edges, density=True)\n",
    "\n",
    "    fig = plt.figure(figsize=(6,4))\n",
    "\n",
    "    log_be = np.log10(bin_edges)\n",
    "    x = 10**((log_be[1:] + log_be[:-1])/2)\n",
    "    plt.loglog(x, density, marker='o', linestyle='none')\n",
    "    plt.xlabel(r\"degree $k$\", fontsize=16)\n",
    "    plt.ylabel(r\"$P(k)$\", fontsize=16)\n",
    "\n",
    "    ax = plt.gca()\n",
    "    ax.spines['right'].set_visible(False)\n",
    "    ax.spines['top'].set_visible(False)\n",
    "    ax.yaxis.set_ticks_position('left')\n",
    "    ax.xaxis.set_ticks_position('bottom')"
   ]
  },
  {
   "cell_type": "code",
   "execution_count": 25,
   "metadata": {},
   "outputs": [
    {
     "name": "stdout",
     "output_type": "stream",
     "text": [
      "507\n",
      "6000\n"
     ]
    }
   ],
   "source": [
    "df = pd.read_csv('./pop_edge_list.csv')\n",
    "\n",
    "# Create an undirected graph\n",
    "G = nx.Graph()\n",
    "\n",
    "# Add edges without weights (if you need weights, modify accordingly)\n",
    "G.add_edges_from(df[['Node1', 'Node2']].values)\n",
    "num_nodes = G.number_of_nodes()\n",
    "num_edges = G.number_of_edges()\n",
    "print(num_nodes)\n",
    "print(num_edges)"
   ]
  },
  {
   "cell_type": "code",
   "execution_count": 26,
   "metadata": {},
   "outputs": [
    {
     "data": {
      "image/png": "[encoded data removed]",
      "text/plain": [
       "<Figure size 600x400 with 1 Axes>"
      ]
     },
     "metadata": {},
     "output_type": "display_data"
    }
   ],
   "source": [
    "# Let's plot the degree distribution\n",
    "\n",
    "plot_degree_dist(G)"
   ]
  },
  {
   "cell_type": "code",
   "execution_count": 27,
   "metadata": {},
   "outputs": [
    {
     "name": "stdout",
     "output_type": "stream",
     "text": [
      "Average Clustering Coefficient:  0.47674961107296676\n",
      "Average Shortest Path:  3.3320958083832335\n"
     ]
    }
   ],
   "source": [
    "# ...and calculate the clustering coefficient and average path length\n",
    "\n",
    "# another way of calculating clustering coefficient using nx\n",
    "C = nx.average_clustering(G)\n",
    "\n",
    "# Find the largest connected component\n",
    "largest_cc = max(nx.connected_components(G), key=len)\n",
    "G_lcc = G.subgraph(largest_cc).copy()\n",
    "\n",
    "# calculate the average shortest path length using the largest connected component \n",
    "# as the graph is not fully connected\n",
    "d = nx.average_shortest_path_length(G_lcc)\n",
    "\n",
    "print(\"Average Clustering Coefficient: \", C)\n",
    "print(\"Average Shortest Path: \", d)"
   ]
  },
  {
   "cell_type": "code",
   "execution_count": 28,
   "metadata": {},
   "outputs": [
    {
     "name": "stdout",
     "output_type": "stream",
     "text": [
      "Clustering mean:  0.6273494502016133\n",
      "Clustering standard deviation:  0.005884719204449828\n",
      "Shortest path length mean:  5.434151483967537\n",
      "Shortest path length standard deviation:  0.09158009946480447\n"
     ]
    }
   ],
   "source": [
    "num_iterations = 1000  # Number of RGGs to generate\n",
    "dim = 2  # 2D space\n",
    "\n",
    "# Initialize lists to store results\n",
    "clustering_RGG = []\n",
    "short_path_RGG = []\n",
    "\n",
    "def generate_geometric_graph(N, r):\n",
    "    \"\"\"Generates a 2D random geometric graph with threshold r\"\"\"\n",
    "    positions = {i: np.random.rand(dim) for i in range(N)}\n",
    "    G = nx.Graph()\n",
    "    G.add_nodes_from(positions.keys())\n",
    "    \n",
    "    for i in range(N):\n",
    "        for j in range(i + 1, N):\n",
    "            if np.linalg.norm(positions[i] - positions[j]) < r:\n",
    "                G.add_edge(i, j)\n",
    "    \n",
    "    return G, positions\n",
    "\n",
    "# Estimate an initial threshold using theory\n",
    "r_estimated = np.sqrt((2 * num_edges) / (np.pi * num_nodes * (num_nodes - 1)))\n",
    "\n",
    "# Run 1000 simulations\n",
    "for _ in range(num_iterations):\n",
    "    RGG, pos = generate_geometric_graph(num_nodes, r_estimated)\n",
    "    \n",
    "    C_RGG = np.mean(list(nx.clustering(RGG).values()))\n",
    "    if nx.is_connected(RGG)==True:\n",
    "        d_RGG = nx.average_shortest_path_length(RGG,weight=None)\n",
    "    clustering_RGG.append(C_RGG)\n",
    "    short_path_RGG.append(d_RGG)\n",
    "\n",
    "# calculate mean and standard deviation of clustering\n",
    "print(\"Clustering mean: \", np.mean(clustering_RGG))\n",
    "print(\"Clustering standard deviation: \", np.std(clustering_RGG))\n",
    "\n",
    "# calculate mean and standard deviation of shortest path length\n",
    "print(\"Shortest path length mean: \", np.mean(short_path_RGG))\n",
    "print(\"Shortest path length standard deviation: \", np.std(short_path_RGG))\n"
   ]
  },
  {
   "cell_type": "code",
   "execution_count": 29,
   "metadata": {},
   "outputs": [
    {
     "data": {
      "image/png": "[encoded data removed]",
      "text/plain": [
       "<Figure size 600x400 with 1 Axes>"
      ]
     },
     "metadata": {},
     "output_type": "display_data"
    }
   ],
   "source": [
    "# opening a figure\n",
    "fig = plt.figure(figsize=(6,4))\n",
    "\n",
    "# creating a boxplot of distribution of clustering across the ensemble of ER networks\n",
    "plt.boxplot(clustering_RGG)\n",
    "# plot real data (C)\n",
    "plt.plot(2,C,'r',marker='+',markersize=15)\n",
    "# axis settings\n",
    "ax = plt.gca()\n",
    "ax.set_xticks([1,2],labels=['RGG','Pop_Genre'])\n",
    "plt.ylabel('Clustering')\n",
    "plt.xlim([0.5,2.5])\n",
    "plt.show()"
   ]
  },
  {
   "cell_type": "code",
   "execution_count": 30,
   "metadata": {},
   "outputs": [
    {
     "data": {
      "image/png": "[encoded data removed]",
      "text/plain": [
       "<Figure size 600x400 with 1 Axes>"
      ]
     },
     "metadata": {},
     "output_type": "display_data"
    }
   ],
   "source": [
    "fig = plt.figure(figsize=(6,4))\n",
    "\n",
    "plt.boxplot(short_path_RGG)\n",
    "plt.plot(2,d,'r',marker='+',markersize=15)\n",
    "ax = plt.gca()\n",
    "ax.set_xticks([1,2],labels=['RGG','Pop_Genre'])\n",
    "plt.ylabel('Average shortest path')\n",
    "plt.xlim([0.5,2.5])\n",
    "plt.show()"
   ]
  }
 ],
 "metadata": {
  "kernelspec": {
   "display_name": "Python 3",
   "language": "python",
   "name": "python3"
  },
  "language_info": {
   "codemirror_mode": {
    "name": "ipython",
    "version": 3
   },
   "file_extension": ".py",
   "mimetype": "text/x-python",
   "name": "python",
   "nbconvert_exporter": "python",
   "pygments_lexer": "ipython3",
   "version": "3.12.8"
  }
 },
 "nbformat": 4,
 "nbformat_minor": 2
}
