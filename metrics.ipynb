{
 "cells": [
  {
   "cell_type": "markdown",
   "metadata": {},
   "source": [
    "# Generating Metrics\n",
    "This code generates a lot of the evaluation metrics for a graph and give a value for them."
   ]
  },
  {
   "cell_type": "code",
   "execution_count": 19,
   "metadata": {},
   "outputs": [],
   "source": [
    "import os\n",
    "import networkx as nx\n",
    "import pandas as pd"
   ]
  },
  {
   "cell_type": "code",
   "execution_count": 20,
   "metadata": {},
   "outputs": [],
   "source": [
    "# Compute global network metrics for graph G\n",
    "def compute_metrics(G):\n",
    "    metrics = {}\n",
    "    \n",
    "    # Clustering coefficient (average)\n",
    "    metrics['Average Clustering Coefficient'] = nx.average_clustering(G)\n",
    "    \n",
    "    # Average path length (only if graph is connected)\n",
    "    if nx.is_connected(G):\n",
    "        metrics['Average Path Length'] = nx.average_shortest_path_length(G)\n",
    "    else:\n",
    "        metrics['Average Path Length'] = 'Graph is not connected'\n",
    "    \n",
    "    return metrics"
   ]
  },
  {
   "cell_type": "code",
   "execution_count": 21,
   "metadata": {},
   "outputs": [],
   "source": [
    "# Path to folder containing edge and node lists\n",
    "data_folder = \"networks\"  \n",
    "output_file = \"network_metrics.csv\"\n",
    "\n",
    "# Initialize results list\n",
    "results = []\n",
    "\n",
    "# Get all edge list files in the folder\n",
    "edge_files = sorted([f for f in os.listdir(data_folder) if \"edge_list\" in f and f.endswith(\".csv\")])"
   ]
  },
  {
   "cell_type": "code",
   "execution_count": 22,
   "metadata": {},
   "outputs": [
    {
     "data": {
      "text/plain": [
       "[\"'blues'_edge_list.csv\",\n",
       " \"'classical'_edge_list.csv\",\n",
       " \"'country'_edge_list.csv\",\n",
       " \"'disco'_edge_list.csv\",\n",
       " \"'hiphop'_edge_list.csv\",\n",
       " \"'jazz'_edge_list.csv\",\n",
       " \"'metal'_edge_list.csv\",\n",
       " \"'pop'_edge_list.csv\",\n",
       " \"'reggae'_edge_list.csv\",\n",
       " \"'rock'_edge_list.csv\",\n",
       " 'null_edge_list.csv']"
      ]
     },
     "execution_count": 22,
     "metadata": {},
     "output_type": "execute_result"
    }
   ],
   "source": [
    "edge_files"
   ]
  },
  {
   "cell_type": "code",
   "execution_count": 23,
   "metadata": {},
   "outputs": [
    {
     "name": "stdout",
     "output_type": "stream",
     "text": [
      "Saved network metrics to network_metrics.csv\n"
     ]
    }
   ],
   "source": [
    "# Iterate through edge list files\n",
    "for edge_file in edge_files:\n",
    "    graph_id = edge_file.split(\"_\")[0]  # Extract identifier\n",
    "    node_file = f\"nodes_{graph_id}.csv\"  # Corresponding node file\n",
    "\n",
    "    # Read node list (if it exists)\n",
    "    node_path = os.path.join(data_folder, node_file)\n",
    "    nodes = pd.read_csv(node_path)[\"Node\"].tolist() if os.path.exists(node_path) else []\n",
    "\n",
    "    # Read edge list\n",
    "    edge_path = os.path.join(data_folder, edge_file)\n",
    "    edges = pd.read_csv(edge_path)[[\"Node1\", \"Node2\"]].values.tolist()\n",
    "\n",
    "    # Create graph\n",
    "    G = nx.Graph()\n",
    "    G.add_nodes_from(nodes)  # Ensure all nodes are included\n",
    "    G.add_edges_from(edges)\n",
    "\n",
    "    # Compute global metrics\n",
    "    metrics = compute_metrics(G)\n",
    "    clustering = metrics['Average Clustering Coefficient']\n",
    "    path_length = metrics['Average Path Length']\n",
    "\n",
    "    # Append results\n",
    "    results.append([graph_id, len(G.nodes), len(G.edges), clustering, path_length])\n",
    "\n",
    "# Convert to DataFrame and save\n",
    "df = pd.DataFrame(results, columns=[\"Graph_ID\", \"Num_Nodes\", \"Num_Edges\", \"Clustering_Coefficient\", \"Avg_Path_Length\"])\n",
    "df.to_csv(output_file, index=False)\n",
    "\n",
    "print(f\"Saved network metrics to {output_file}\")"
   ]
  }
 ],
 "metadata": {
  "kernelspec": {
   "display_name": "Python 3",
   "language": "python",
   "name": "python3"
  },
  "language_info": {
   "codemirror_mode": {
    "name": "ipython",
    "version": 3
   },
   "file_extension": ".py",
   "mimetype": "text/x-python",
   "name": "python",
   "nbconvert_exporter": "python",
   "pygments_lexer": "ipython3",
   "version": "3.12.2"
  }
 },
 "nbformat": 4,
 "nbformat_minor": 2
}
