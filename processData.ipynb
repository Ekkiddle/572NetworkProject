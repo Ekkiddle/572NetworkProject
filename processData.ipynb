{
 "cells": [
  {
   "cell_type": "code",
   "execution_count": 3,
   "metadata": {},
   "outputs": [],
   "source": [
    "import os\n",
    "import numpy as np\n",
    "import nibabel as nib\n",
    "import pandas as pd\n",
    "from nilearn import datasets, input_data\n",
    "from nilearn.image import resample_to_img"
   ]
  },
  {
   "cell_type": "code",
   "execution_count": 4,
   "metadata": {},
   "outputs": [],
   "source": [
    "TR = 1.5 # repition time (time that each image takes up)"
   ]
  },
  {
   "cell_type": "code",
   "execution_count": 5,
   "metadata": {},
   "outputs": [
    {
     "data": {
      "text/html": [
       "<pre style=\"white-space:pre;overflow-x:auto;line-height:normal;font-family:Menlo,'DejaVu Sans Mono',consolas,'Courier New',monospace\"><span style=\"color: #000080; text-decoration-color: #000080; font-weight: bold\">[</span><span style=\"color: #000080; text-decoration-color: #000080\">get_dataset_dir</span><span style=\"color: #000080; text-decoration-color: #000080; font-weight: bold\">]</span> Dataset found in C:\\Users\\ekkid\\nilearn_data\\schaefer_2018\n",
       "</pre>\n"
      ],
      "text/plain": [
       "\u001b[1;34m[\u001b[0m\u001b[34mget_dataset_dir\u001b[0m\u001b[1;34m]\u001b[0m Dataset found in C:\\Users\\ekkid\\nilearn_data\\schaefer_2018\n"
      ]
     },
     "metadata": {},
     "output_type": "display_data"
    }
   ],
   "source": [
    "# Load Schaefer 600 parcellation atlas\n",
    "schaefer = datasets.fetch_atlas_schaefer_2018(n_rois=600, resolution_mm=2, yeo_networks=7)\n",
    "atlas_img = nib.load(schaefer.maps)\n",
    "atlas_labels = schaefer.labels"
   ]
  },
  {
   "cell_type": "code",
   "execution_count": 6,
   "metadata": {},
   "outputs": [],
   "source": [
    "# Load all fMRI images in the data directory (taking from subject 1 and averaging all 6 test trials)\n",
    "directory = \"data\"\n",
    "\n",
    "#fmri_images = []\n",
    "#for filename in os.listdir(directory):\n",
    "#    if filename.endswith(\".nii\"):\n",
    "#        filepath = os.path.join(directory, filename)\n",
    "#        fmri_img = nib.load(filepath)\n",
    "#        # Append the image to a list of the images that I would like to use.\n",
    "#        fmri_images.append(fmri_img)"
   ]
  },
  {
   "cell_type": "code",
   "execution_count": 7,
   "metadata": {},
   "outputs": [],
   "source": [
    "# Load one fMRI image (replace with actual file path)\n",
    "fmri_img = nib.load(\"data/sub-001_task-Test_run-01_bold.nii\")\n",
    "\n",
    "timestamps = pd.read_csv(\"data/sub-001_task-Test_run-01_events.tsv\", sep=\"\\t\")"
   ]
  },
  {
   "cell_type": "code",
   "execution_count": 8,
   "metadata": {},
   "outputs": [],
   "source": [
    "# Resample atlas to match fMRI\n",
    "resampled_atlas = resample_to_img(\n",
    "    atlas_img, fmri_img, interpolation=\"nearest\", \n",
    "    force_resample=True, copy_header=True\n",
    ")\n",
    "\n",
    "# Extract time series for each parcel\n",
    "masker = input_data.NiftiLabelsMasker(resampled_atlas, standardize=True)\n",
    "time_series = masker.fit_transform(fmri_img)"
   ]
  },
  {
   "cell_type": "code",
   "execution_count": 12,
   "metadata": {},
   "outputs": [],
   "source": [
    "genre_fmri_indices = {}\n",
    "# Loop through all rows\n",
    "for _, row in timestamps.iterrows():\n",
    "    genre = row['genre']\n",
    "    onset = row['onset']\n",
    "    duration = row['duration']\n",
    "    \n",
    "    # Compute fMRI indices\n",
    "    start_index = int(onset / TR)\n",
    "    end_index = int((onset + duration) / TR)\n",
    "    \n",
    "    # Create list of fMRI indices in this range\n",
    "    indices = list(range(start_index, end_index))\n",
    "    \n",
    "    # Store in dictionary\n",
    "    if genre in genre_fmri_indices:\n",
    "        genre_fmri_indices[genre].extend(indices)\n",
    "    else:\n",
    "        genre_fmri_indices[genre] = indices\n",
    "\n",
    "# Remove duplicates and sort indices for each genre\n",
    "for genre in genre_fmri_indices:\n",
    "    genre_fmri_indices[genre] = sorted(set(genre_fmri_indices[genre]))\n",
    "\n",
    "pop_time_series = time_series[genre_fmri_indices[\"'pop'\"]]"
   ]
  },
  {
   "cell_type": "code",
   "execution_count": 14,
   "metadata": {},
   "outputs": [
    {
     "name": "stdout",
     "output_type": "stream",
     "text": [
      "Node list and edge list have been saved.\n"
     ]
    }
   ],
   "source": [
    "# Compute correlation matrix\n",
    "correlation_matrix = np.corrcoef(pop_time_series.T)\n",
    "\n",
    "# Create node list\n",
    "node_list = pd.DataFrame({\"Node\": range(1, 601), \"Label\": atlas_labels})\n",
    "node_list.to_csv(\"node_list.csv\", index=False)\n",
    "\n",
    "# Create edge list with correlation threshold > 0.5\n",
    "edges = []\n",
    "n_nodes = correlation_matrix.shape[0]\n",
    "for i in range(n_nodes):\n",
    "    for j in range(i + 1, n_nodes):  # Avoid duplicates\n",
    "        if correlation_matrix[i, j] > 0.5:\n",
    "            edges.append((i + 1, j + 1, correlation_matrix[i, j]))\n",
    "\n",
    "edge_list = pd.DataFrame(edges, columns=[\"Node1\", \"Node2\", \"Correlation\"])\n",
    "edge_list.to_csv(\"edge_list.csv\", index=False)\n",
    "\n",
    "print(\"Node list and edge list have been saved.\")\n"
   ]
  }
 ],
 "metadata": {
  "kernelspec": {
   "display_name": "Python 3",
   "language": "python",
   "name": "python3"
  },
  "language_info": {
   "codemirror_mode": {
    "name": "ipython",
    "version": 3
   },
   "file_extension": ".py",
   "mimetype": "text/x-python",
   "name": "python",
   "nbconvert_exporter": "python",
   "pygments_lexer": "ipython3",
   "version": "3.12.2"
  }
 },
 "nbformat": 4,
 "nbformat_minor": 2
}
